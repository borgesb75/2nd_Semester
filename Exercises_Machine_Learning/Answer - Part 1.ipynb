{
 "cells": [
  {
   "cell_type": "markdown",
   "id": "8afe8fe6",
   "metadata": {},
   "source": [
    "## Exercises: Part 1/2 Machine Learning\n",
    "### Bruno Borges da Silva"
   ]
  },
  {
   "cell_type": "markdown",
   "id": "7a3d998b",
   "metadata": {},
   "source": [
    "**1. Explain whether each scenario is a classification or regression problem, and indicate whether we are most interested in inference or prediction. Finally, provide 𝑛 and 𝑝**"
   ]
  },
  {
   "cell_type": "markdown",
   "id": "a3c9a8a5",
   "metadata": {},
   "source": [
    "**a. We collect a set of data on the top 500 firms in the US. For each firm we record profit, number of employees, industry and the CEO salary. We are interested in understanding which factors affect CEO salary.**  \n",
    "> It’s a regression problem because we are interested in a continuous variable (CEO salary). We are interested in the inference because the goal is to understand the relationship between the predictors (profit, number of employees, industry) and the outcome (CEO salary). n: 500 (the top firms); p: 3 (profit, number of employees, industry)."
   ]
  },
  {
   "cell_type": "markdown",
   "id": "673c8d37",
   "metadata": {},
   "source": [
    "**b. Success or a failure. We collect data on 20 similar products that were previously launched. For each product we have recorded whether it was a success or failure, price charged for the product, marketing budget, competition price, and ten other variables**\n",
    ">b. It’s a classification problem because the outcome is a categorical variable (success or failure). The goal is prediction, because we want to predict if a new product will be a success or a failure based on historical data. n: 20 (similar products), p: 13.\n"
   ]
  },
  {
   "cell_type": "markdown",
   "id": "0bd09815",
   "metadata": {},
   "source": [
    "**c. We are interested in predicting the % change in the USD/Euro exchange rate in relation to the weekly changes in the world stock markets. Hence, we collect weekly data for all of 2012. For each week we record the % change in the USD/Euro, the % change in the US market, the % change in the British market, and the % change in the German market.**\n",
    ">c. It’s a  regression problem because the goal is predicting a  continuous variable (% change in the USD/EUR exchange rate). It’s a prediction, as we aim to forecast the future value of the exchange rate based on other continuous variables. n: 52 (data was collected weekly for all of 2012 = 52 weeks), p: 3 (percentage changes in the US market, the British market, and the German market.), n: 52 (assuming data is collected for every week without missing any week for all year).\n"
   ]
  },
  {
   "cell_type": "markdown",
   "id": "078bd75f",
   "metadata": {},
   "source": [
    "**2. Describe three real-life applications in which classification might be useful. Describe the response, as well as the predictors. Is the goal of each application inference or prediction? Explain your answer**"
   ]
  },
  {
   "cell_type": "markdown",
   "id": "d25b00ba",
   "metadata": {},
   "source": [
    "| Application                           | Response                               | Predictors                                           | Goal       | Explanation                                                                                                              |\n",
    "|---------------------------------------|----------------------------------------|------------------------------------------------------|------------|--------------------------------------------------------------------------------------------------------------------------|\n",
    "| Patient Readmission Prediction        | Whether a patient will be readmitted within 1 month (Yes/No) | Patient's age, diagnosis, previous admissions, drugs prescribed | Prediction | The aim is to predict the % of a patient's readmission to hospital, which can improve patient care and resource planning. |\n",
    "| Drug Effectiveness Classification (Pharmaceutical) | Effectiveness of a new drug (Effective/Not Effective) | Patient demographics (age, sex), health conditions, drug dosage, treatment duration, side effects observed  | Inference  | The aim is to infer which factors contribute most to a drug's effectiveness, helping in the development of new drugs.      |\n",
    "| Grocery Store Product Demand Forecasting | High or low demand for a product                 | Historical sales data, season, price, promotions, competitor prices, local events          | Prediction | The aim is to predict product demand (high or low), to optimize inventory management and pricing strategies.               |\n"
   ]
  },
  {
   "cell_type": "markdown",
   "id": "994949e4",
   "metadata": {},
   "source": [
    "**3. Describe three real-life applications in which regression might be useful. Describe the response, as well as the predictors. Is the goal of each application inference or prediction? Explain your answer**"
   ]
  },
  {
   "cell_type": "markdown",
   "id": "7ef08f05",
   "metadata": {},
   "source": [
    "| Application                   | Response                             | Predictors                                                     | Goal         | Explanation                                                                     |\n",
    "|-----------------------------|------------------------------------|--------------------------------------------------------------|------------|-------------------------------------------------------------------------------|\n",
    "| Energy Consumption Prediction | Energy consumption of a building     | Building size, type, number of occupants, weather conditions, time of year | Prediction   | Predict the energy needs for heating and cooling to optimize energy use.        |\n",
    "| Traffic Flow Prediction       | Number of vehicles on a road per hour| Time of day, day of the week, holidays, weather conditions, local events | Prediction   | Predict traffic flow to aid in urban planning and management, and inform travelers for better route planning. |\n",
    "| Hospital Length of Stay Prediction | Length of stay in days             | Patient age, type of surgery, comorbidities, complications, admission type | Inference   | Understand how different factors such as surgery type and patient health conditions influence the length of hospital stays. This aids in healthcare policies. |\n"
   ]
  },
  {
   "cell_type": "markdown",
   "id": "05ae8b97",
   "metadata": {},
   "source": [
    "**4. Describe three reasons why the error term 𝜖 in the general form 𝑌 = 𝑓(𝑥) + 𝜖 might be non-zero?**\n",
    "> The error *term 𝜖* in the regression equation  *𝑌 = 𝑓(𝑥) + 𝜖* represents the <u>discrepancy between the observed values and the values predicted by the model. Some reasons why this error term might be non-zero are</u>:  \n",
    "**`Measurement Error:`** It happens when there is a difference between the actual value of a variable and the measured value, due to inaccuracies in data collection, recording errors, or limitations in measurement instruments. For example, in a study measuring the effect of study time on exam scores, inaccuracies in reporting the exact study time would contribute to the error term.  \n",
    "**`Omitted Variable Bias:`** It happens when the model doesn’t include one or more relevant variables that influence the response variable. The effect of these omitted variables on the response is captured in the error term, leading to non-zero errors. For example, when the goal is predicted in the house prices using only square footage and location, omitting the number of bedrooms or the age of the property can lead to significant prediction errors.  \n",
    "**`Model Specification Error:`** If the functional form of the model doesn’t accurately represent the true relationship between the predictors and the response variable, this can lead to errors. This includes using a linear model for a relationship that is inherently non-linear, or assuming independence of observations when there is actually correlation. "
   ]
  },
  {
   "attachments": {
    "image.png": {
     "image/png": "[encoded data removed]"
    }
   },
   "cell_type": "markdown",
   "id": "28a8d914",
   "metadata": {},
   "source": [
    "**5. Use the following Linear Regression code to train (model.fit()) a linear regression model where the input variable is news sentiment score and the response (output) is stock price:**\n",
    "\n",
    "![image.png](attachment:image.png)"
   ]
  },
  {
   "cell_type": "code",
   "execution_count": 21,
   "id": "5388feae",
   "metadata": {},
   "outputs": [
    {
     "name": "stdout",
     "output_type": "stream",
     "text": [
      "Intercept: 48.37931034482759, Coefficients: [12.00328407]\n",
      "\n",
      " ----------------------------------------------------------------------\n"
     ]
    }
   ],
   "source": [
    "from sklearn.linear_model import LinearRegression\n",
    "import numpy as np\n",
    "\n",
    "# Create an array (matriz) of sentiment scores from news articles. Each number in the list represents the sentiment score.\n",
    "# Reshape (remodelar) the matriz to a 2-D array with one column (necessary for sklearn)\n",
    "# Each sentiment score represents, for example, how positive or negative the news is\n",
    "news_sentiment = np.array([0.2, 0.5, 0.3, -0.1, 0.4, 0.6, 0.1, -0.2, 0.3, 0.0]).reshape(-1,1)\n",
    "\n",
    "# Create a list of stock prices corresponding to the sentiment scores above\n",
    "# Each price corresponds to the stock price at the time of the news sentiment score\n",
    "stock_price = [50, 55, 48, 45, 52, 58, 53, 47, 51, 50]\n",
    "\n",
    "# Initialize the LinearRegression model\n",
    "model = LinearRegression()\n",
    "\n",
    "# Fit the model using the news sentiment as predictor variable (X) and the stock prices as response variable (y)\n",
    "model.fit(news_sentiment, stock_price) # model.fit(X,y)\n",
    "\n",
    "# After fitting the model, print out the intercept and the coefficient(s)\n",
    "print(f\"Intercept: {model.intercept_}, Coefficients: {model.coef_}\")\n",
    "print(\"\\n\",\"-\"*70)"
   ]
  },
  {
   "cell_type": "markdown",
   "id": "6eed79a2",
   "metadata": {},
   "source": [
    "**`intercept (𝛽0)`** is the predicted value (y) of the response when the predictor (X) is zero:  y = aX + 𝛽0  -->  y = a*0 + 𝛽0  -->  **y = 𝛽0**  In other words, **`when stock_price (X) is 0, the news sentiment score (y) = intercept (𝛽0)`**\n",
    "\n",
    "**`coefficients is 𝛽1, … , 𝛽𝑝`** each coefficient tells how much the dependent variable changes when the corresponding independent variable (or predictor) increases by one unit.\n",
    "\n",
    "For example, in a linear regression model to predict the `price of a house (the response)` based on its `size in square feet (predictor 1)` and `age in years (predictor 2)`. There are two predictors (`p = 2`), leading to two coefficients: `β1` (for the size in square feet) and `β2` (for the age in years). If b1 = 150, its means for every additional square foot of size, the predicted price of the house increases by $150 (assuming the age of the house stays the same)"
   ]
  },
  {
   "cell_type": "markdown",
   "id": "342dbfbd",
   "metadata": {},
   "source": [
    "**a. Given the parameters produced by the model in the code, what is the stock price for a news sentiment score 0.55? What do the parameters tell us about the relationship between news sentiment score and stock price?**\n",
    "\n",
    "the stock price for a news sentiment score of 0.55 is predicted to be approximately $62.65. This indicates a positive relationship between news sentiment and stock price, where a higher sentiment score leads to an increase in stock price. Specifically, the model suggests that for every unit increase in sentiment score, the stock price increases by about 23.53 units. "
   ]
  },
  {
   "cell_type": "code",
   "execution_count": null,
   "id": "1ff1e4b0",
   "metadata": {},
   "outputs": [],
   "source": []
  },
  {
   "cell_type": "code",
   "execution_count": 2,
   "id": "66ba39e4",
   "metadata": {},
   "outputs": [
    {
     "ename": "SyntaxError",
     "evalue": "invalid syntax (2167480645.py, line 24)",
     "output_type": "error",
     "traceback": [
      "\u001b[1;36m  Cell \u001b[1;32mIn[2], line 24\u001b[1;36m\u001b[0m\n\u001b[1;33m    ```\u001b[0m\n\u001b[1;37m    ^\u001b[0m\n\u001b[1;31mSyntaxError\u001b[0m\u001b[1;31m:\u001b[0m invalid syntax\n"
     ]
    }
   ],
   "source": [
    "When you run this code, it will output the intercept and coefficient values for the linear regression model\n",
    "that predicts stock prices from the news sentiment scores."
   ]
  },
  {
   "cell_type": "code",
   "execution_count": 1,
   "id": "003e2c97",
   "metadata": {},
   "outputs": [
    {
     "name": "stdout",
     "output_type": "stream",
     "text": [
      "Intercept: 48.37931034482759, Coefficients: [12.00328407]\n"
     ]
    }
   ],
   "source": [
    "from sklearn.linear_model import LinearRegression\n",
    "import numpy as np\n",
    "\n",
    "news_sentiment = np.array([0.2, 0.5, 0.3, -0.1, 0.4, 0.6, 0.1, -0.2, 0.3, 0.0]).reshape(-1,1)\n",
    "stock_price = [50, 55, 48, 45, 52, 58, 53, 47, 51, 50]\n",
    "\n",
    "model = LinearRegression()\n",
    "model.fit(news_sentiment,stock_price)\n",
    "print(f\"Intercept: {model.intercept_}, Coefficients: {model.coef_}\")"
   ]
  },
  {
   "cell_type": "code",
   "execution_count": null,
   "id": "4ae36a2a",
   "metadata": {},
   "outputs": [],
   "source": []
  }
 ],
 "metadata": {
  "kernelspec": {
   "display_name": "Python 3 (ipykernel)",
   "language": "python",
   "name": "python3"
  },
  "language_info": {
   "codemirror_mode": {
    "name": "ipython",
    "version": 3
   },
   "file_extension": ".py",
   "mimetype": "text/x-python",
   "name": "python",
   "nbconvert_exporter": "python",
   "pygments_lexer": "ipython3",
   "version": "3.11.4"
  }
 },
 "nbformat": 4,
 "nbformat_minor": 5
}
